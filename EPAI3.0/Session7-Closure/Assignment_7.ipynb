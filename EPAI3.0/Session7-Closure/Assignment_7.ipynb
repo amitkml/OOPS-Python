{
 "cells": [
  {
   "cell_type": "markdown",
   "source": "# What is Cloure?\n\nTo understand the concept of closures, we need to understand some basic concepts like nested functions and free variables. Nested functions in Python are the functions which are defined inside another function.\n![im](https://miro.medium.com/max/1480/1*NamyWBedolrH4-N3iwUMfw.png)\n\n## Nested Function\n```\n#nested function example\ndef outer_function():\n    x=10\n    print(\"It is outer function which encloses a nested function\")\n    def nested_function():\n        print(\"I am in nested function and I can access x from my enclosing function's scope. Printing x\")\n        print(x)\n    nested_function()\n\n#Execution\nouter_function() \n```\n## What is a free variable?\nIt is a variable if we declare a variable inside a function or a block then it can be used only inside that function or block.x is a free variable in above example. Here nested_function can reference x because a function has access to the variables defined in the scope where it is defined.\n\n## What are closures in Python?\nClosures in Python are used in object oriented programming by which a nested function remembers and has access to variables in the scope of the function in which it is defined.\n- We need to have nested functions.\n- Nested function needs to refer to variables defined in its outer scope i.e the outer function.\n- The third and most important condition for a closure to exist is that the outer function must return the nested function.\n\n## Why should we use closures in Python?\nClosures in Python can be used if we want to refrain from using global variables and thus can be used for data hiding. A very good usage of closures is done when decorators are implemented.",
   "metadata": {
    "tags": [],
    "cell_id": "00000-e4842dd1-e051-4c48-bcb5-5efe04e7666f",
    "deepnote_cell_type": "markdown"
   }
  },
  {
   "cell_type": "markdown",
   "source": "# Write a closure that takes a function and then check whether the function passed has a docstring with more than 50 characters. 50 is stored as a free variable (+ 4 tests)&nbsp;",
   "metadata": {
    "tags": [],
    "cell_id": "00000-de1e84a3-82c2-45dc-adb4-b0f2c54cbb6b",
    "deepnote_cell_type": "text-cell-h1"
   }
  },
  {
   "cell_type": "code",
   "metadata": {
    "tags": [],
    "cell_id": "00000-591ef57a-c11f-4e20-ad81-5acd847211f6",
    "deepnote_to_be_reexecuted": false,
    "source_hash": "1c94a490",
    "execution_start": 1624362691178,
    "execution_millis": 4,
    "deepnote_cell_type": "code"
   },
   "source": "import time\nimport math\n\ndef doc_string():\n    '''Takes in a number n, returns the square of n but is this function correct'''\n    return True\n\ndef doc_50():\n    '''Takes in a number n, returns the square of n butre'''\n    return True\n\ndef doc_lower():\n    '''Takes in a number n,'''\n    return True\n\ndef doc_nodoc():\n    return True\n\ndef check_docstring(max_len):\n    '''This function takes a input and then check whether the function passed has a docstring with more than input no of characters'''\n    fn_docstring = 0\n    fn_docstring_max = max_len\n    def find_length(fn):\n        nonlocal fn_docstring_max\n        docstring = fn.__doc__\n        if docstring is None:\n            fn_docstring = 0\n        else:\n            fn_docstring = len(fn.__doc__)\n        if fn_docstring >50:\n            fn_docstring_bool = True\n        else:\n            fn_docstring_bool = False\n        print(f\"Function Name:{fn.__name__} , docstring length:{fn_docstring}, Length > 50:{fn_docstring_bool}\")\n        return fn_docstring\n    return find_length\n\nval = check_docstring(50)\nval_lenth = val(doc_string)\nprint(val.__code__.co_freevars)",
   "execution_count": 1,
   "outputs": [
    {
     "name": "stdout",
     "text": "Function Name:doc_string , docstring length:73, Length > 50:True\n('fn_docstring_max',)\n",
     "output_type": "stream"
    }
   ]
  },
  {
   "cell_type": "markdown",
   "source": "## ",
   "metadata": {
    "tags": [],
    "cell_id": "00001-3fcf92e5-7426-4986-9b08-4d1c8c545079",
    "deepnote_cell_type": "text-cell-h2"
   }
  },
  {
   "cell_type": "code",
   "metadata": {
    "tags": [],
    "cell_id": "00001-d0f984a3-8d77-41a5-b44e-6fc8d933df2b",
    "deepnote_to_be_reexecuted": false,
    "source_hash": "d9da42f7",
    "execution_start": 1624362691179,
    "execution_millis": 54,
    "deepnote_cell_type": "code"
   },
   "source": "val_lenth = val(doc_50)",
   "execution_count": 2,
   "outputs": [
    {
     "name": "stdout",
     "text": "Function Name:doc_50 , docstring length:50, Length > 50:False\n",
     "output_type": "stream"
    }
   ]
  },
  {
   "cell_type": "code",
   "metadata": {
    "tags": [],
    "cell_id": "00001-c7bcf4d5-7667-46e9-8533-ab45beaaa663",
    "deepnote_to_be_reexecuted": false,
    "source_hash": "941b33d9",
    "execution_start": 1624362691222,
    "execution_millis": 11,
    "deepnote_cell_type": "code"
   },
   "source": "val_lenth",
   "execution_count": 3,
   "outputs": [
    {
     "output_type": "execute_result",
     "execution_count": 3,
     "data": {
      "text/plain": "50"
     },
     "metadata": {}
    }
   ]
  },
  {
   "cell_type": "code",
   "metadata": {
    "tags": [],
    "cell_id": "00001-068fa18c-e673-4359-9626-d5e5dbfdbdff",
    "deepnote_to_be_reexecuted": false,
    "source_hash": "8f84a698",
    "execution_start": 1624362691223,
    "execution_millis": 13,
    "deepnote_cell_type": "code"
   },
   "source": "import unittest\nclass TestStringMethods(unittest.TestCase):\n    def test_upper(self):\n        self.assertGreater(check_docstring(50)(doc_string),50)\n    \n    def test_lower(self):\n        self.assertLessEqual(check_docstring(50)(doc_lower),50)\n\n    def test_nodoc(self):\n        self.assertLessEqual(check_docstring(50)(doc_nodoc),50)\n    \n    def test_50len(self):\n        self.assertLessEqual(check_docstring(50)(doc_50),50)",
   "execution_count": 4,
   "outputs": []
  },
  {
   "cell_type": "code",
   "metadata": {
    "tags": [],
    "cell_id": "00001-bea7cf36-838d-4a08-b507-418d070ff115",
    "deepnote_to_be_reexecuted": false,
    "source_hash": "8b708cd6",
    "execution_start": 1624362691239,
    "execution_millis": 80,
    "deepnote_cell_type": "code"
   },
   "source": "unittest.main(argv=['first-arg-is-ignored'], exit=False)\n",
   "execution_count": 5,
   "outputs": [
    {
     "name": "stderr",
     "text": "....Function Name:doc_50 , docstring length:50, Length > 50:False\nFunction Name:doc_lower , docstring length:20, Length > 50:False\nFunction Name:doc_nodoc , docstring length:0, Length > 50:False\nFunction Name:doc_string , docstring length:73, Length > 50:True\n\n----------------------------------------------------------------------\nRan 4 tests in 0.025s\n\nOK\n",
     "output_type": "stream"
    },
    {
     "output_type": "execute_result",
     "execution_count": 5,
     "data": {
      "text/plain": "<unittest.main.TestProgram at 0x7ff3b3263ed0>"
     },
     "metadata": {}
    }
   ]
  },
  {
   "cell_type": "markdown",
   "source": "# Write a closure that gives you the next Fibonacci number (+ 2 tests)",
   "metadata": {
    "tags": [],
    "cell_id": "00007-a464936e-9cb2-4ccf-91b9-719c069fac16",
    "deepnote_cell_type": "text-cell-h1"
   }
  },
  {
   "cell_type": "code",
   "metadata": {
    "tags": [],
    "cell_id": "00008-d88160b3-4305-4c3b-bee0-a52bb3770d1e",
    "deepnote_to_be_reexecuted": false,
    "source_hash": "4c6dd573",
    "execution_start": 1624362691304,
    "execution_millis": 38,
    "deepnote_cell_type": "code"
   },
   "source": "    def Fibonnacci():\n        '''This function takes an input gives you the next Fibonacci number'''\n        number1 = 1\n        number2 = 1\n        nextFibo = number1 + number2\n        def calculate(givenNumber):\n            nonlocal nextFibo\n            nonlocal number1\n            nonlocal number2\n            while nextFibo <= givenNumber:\n                number1 = number2\n                number2 = nextFibo\n                nextFibo = number1 + number2\n            print(f\"Next Fibonnacci Number:{nextFibo}\")\n            return nextFibo\n        return calculate  ",
   "execution_count": 6,
   "outputs": []
  },
  {
   "cell_type": "code",
   "metadata": {
    "tags": [],
    "cell_id": "00009-63493a31-cad7-4504-a27a-a63c2dd350e7",
    "deepnote_to_be_reexecuted": false,
    "source_hash": "df9b1971",
    "execution_start": 1624362691343,
    "execution_millis": 6,
    "deepnote_cell_type": "code"
   },
   "source": "func = Fibonnacci()\nfunc(29)",
   "execution_count": 7,
   "outputs": [
    {
     "name": "stdout",
     "text": "Next Fibonnacci Number:34\n",
     "output_type": "stream"
    },
    {
     "output_type": "execute_result",
     "execution_count": 7,
     "data": {
      "text/plain": "34"
     },
     "metadata": {}
    }
   ]
  },
  {
   "cell_type": "code",
   "metadata": {
    "tags": [],
    "cell_id": "00010-80a62727-6065-49b4-ada6-4ddc5e1975ab",
    "deepnote_to_be_reexecuted": false,
    "source_hash": "8f0a3994",
    "execution_start": 1624362691343,
    "execution_millis": 33,
    "deepnote_cell_type": "code"
   },
   "source": "Fibonnacci()(0)",
   "execution_count": 8,
   "outputs": [
    {
     "name": "stdout",
     "text": "Next Fibonnacci Number:2\n",
     "output_type": "stream"
    },
    {
     "output_type": "execute_result",
     "execution_count": 8,
     "data": {
      "text/plain": "2"
     },
     "metadata": {}
    }
   ]
  },
  {
   "cell_type": "code",
   "metadata": {
    "tags": [],
    "cell_id": "00010-bd9577f6-da78-4b65-a132-8f8ce3830327",
    "deepnote_to_be_reexecuted": false,
    "source_hash": "50786e6a",
    "execution_start": 1624362691373,
    "execution_millis": 784024,
    "deepnote_cell_type": "code"
   },
   "source": "print(func.__code__.co_freevars)",
   "execution_count": 9,
   "outputs": [
    {
     "name": "stdout",
     "text": "('nextFibo', 'number1', 'number2')\n",
     "output_type": "stream"
    }
   ]
  },
  {
   "cell_type": "code",
   "metadata": {
    "tags": [],
    "cell_id": "00011-88764571-30ef-4699-8427-f96329e2a092",
    "deepnote_to_be_reexecuted": false,
    "source_hash": "d451396c",
    "execution_start": 1624362691429,
    "execution_millis": 5,
    "deepnote_cell_type": "code"
   },
   "source": "import unittest\nclass TestStringMethodsFinbo(unittest.TestCase):\n    def test_value(self):\n        self.assertEqual(Fibonnacci()(29),34)\n    \n    def test_zero(self):\n        self.assertEqual(Fibonnacci()(0),2)\n\nunittest.main(argv=['first-arg-is-ignored'], exit=False)",
   "execution_count": 10,
   "outputs": [
    {
     "name": "stderr",
     "text": "..Function Name:doc_50 , docstring length:50, Length > 50:False\nFunction Name:doc_lower , docstring length:20, Length > 50:False\nFunction Name:doc_nodoc , docstring length:0, Length > 50:False\n....Function Name:doc_string , docstring length:73, Length > 50:True\nNext Fibonnacci Number:34\nNext Fibonnacci Number:2\n\n----------------------------------------------------------------------\nRan 6 tests in 0.009s\n\nOK\n",
     "output_type": "stream"
    },
    {
     "output_type": "execute_result",
     "execution_count": 10,
     "data": {
      "text/plain": "<unittest.main.TestProgram at 0x7ff3b31d2910>"
     },
     "metadata": {}
    }
   ]
  },
  {
   "cell_type": "code",
   "metadata": {
    "tags": [],
    "cell_id": "00013-e236188d-1a02-450b-ac71-227bb84c0fba",
    "deepnote_to_be_reexecuted": false,
    "source_hash": "b623e53d",
    "execution_start": 1624362691474,
    "execution_millis": 781190,
    "deepnote_cell_type": "code"
   },
   "source": "",
   "execution_count": 10,
   "outputs": []
  },
  {
   "cell_type": "markdown",
   "source": "# Write a new one that can keep a track of how many times add/mul/div functions were called, and update a global dictionary variable with the counts&nbsp;",
   "metadata": {
    "tags": [],
    "cell_id": "00014-3e0824ff-eaea-4622-ba8d-52ef5b18a782",
    "deepnote_cell_type": "text-cell-h1"
   }
  },
  {
   "cell_type": "code",
   "source": "my_count_dict = dict({\"add\":0, \"mul\":0, \"div\":0}) ## this is a global variable\n\ndef counter():\n    '''Find out how many times the add, div and mul has been called'''\n    add =0\n    div = 0\n    mul = 0\n    global my_count_dict\n\n    def add_increment(fn):\n        nonlocal add\n        if fn.__name__ == \"add\":\n            add = my_count_dict.get('add')\n            add +=1\n            my_count_dict[\"add\"] = add\n            print(f\"{fn.__name__} count Value:{my_count_dict.get('add')}\")\n            return my_count_dict.get('add')\n        else:\n            return my_count_dict.get('add')\n    \n    def div_increment(fn):\n        nonlocal div\n        if fn.__name__ == \"div\":\n            add = my_count_dict.get('div')\n            div +=1\n            my_count_dict[\"div\"] = div\n            print(f\"{fn.__name__} count Value:{my_count_dict.get('div')}\")\n            return my_count_dict.get('div')\n        else:\n            return my_count_dict.get('div')\n\n\n    def mul_increment(fn):\n        nonlocal mul\n        if fn.__name__ == \"mul\":\n            add = my_count_dict.get('mul')\n            mul +=1\n            my_count_dict[\"mul\"] = mul\n            print(f\"{fn.__name__} count Value:{my_count_dict.get('mul')}\")\n            return my_count_dict.get('mul')\n        else:\n            return my_count_dict.get('mul')\n    \n    return add_increment, div_increment, mul_increment",
   "metadata": {
    "tags": [],
    "cell_id": "00015-0b1dfb74-ac38-407d-9532-7a8729685396",
    "deepnote_to_be_reexecuted": false,
    "source_hash": "64daa337",
    "execution_start": 1624362691483,
    "execution_millis": 567436,
    "deepnote_cell_type": "code"
   },
   "outputs": [],
   "execution_count": 11
  },
  {
   "cell_type": "code",
   "source": "def add(a,b):\n    '''adding two number'''\n    return a+b\n\ndef mul(a,b):\n    '''Multiplying two number'''\n    return a*b\n\ndef div(a,b):\n    '''diviion of two number'''\n    return a % b",
   "metadata": {
    "tags": [],
    "cell_id": "00016-c726ce0a-cf60-4254-840e-1599b11a4f09",
    "deepnote_to_be_reexecuted": false,
    "source_hash": "21717822",
    "execution_start": 1624362691499,
    "execution_millis": 566986,
    "deepnote_cell_type": "code"
   },
   "outputs": [],
   "execution_count": 12
  },
  {
   "cell_type": "code",
   "source": "addx, divx, mulx = counter()",
   "metadata": {
    "tags": [],
    "cell_id": "00017-da8e367f-3d7d-4a3b-9515-f24761e8c147",
    "deepnote_to_be_reexecuted": false,
    "source_hash": "c6d73193",
    "execution_start": 1624362691552,
    "execution_millis": 565734,
    "deepnote_cell_type": "code"
   },
   "outputs": [],
   "execution_count": 13
  },
  {
   "cell_type": "code",
   "source": "import unittest\nclass TestCounter(unittest.TestCase):\n    def test_add(self):\n        self.assertEqual(addx(add),1)\n    \n    def test_add2(self):\n        self.assertEqual(addx(add),2)\n\n    def test_div(self):\n        self.assertEqual(divx(div),1)\n    \n    def test_div2(self):\n        self.assertEqual(divx(div),2)\n    \n    def test_mul(self):\n        self.assertEqual(mulx(mul),1)\n    \n    def test_mul2(self):\n        self.assertEqual(mulx(mul),2)\n\nunittest.main(argv=['first-arg-is-ignored'], exit=False)",
   "metadata": {
    "tags": [],
    "cell_id": "00018-4c7ca9c7-a900-4349-8ca6-be6dc36eb594",
    "deepnote_to_be_reexecuted": false,
    "source_hash": "6becc5a6",
    "execution_start": 1624362691552,
    "execution_millis": 563254,
    "deepnote_cell_type": "code"
   },
   "outputs": [
    {
     "name": "stderr",
     "text": "............add count Value:1\nadd count Value:2\ndiv count Value:1\ndiv count Value:2\nmul count Value:1\nmul count Value:2\nFunction Name:doc_50 , docstring length:50, Length > 50:False\nFunction Name:doc_lower , docstring length:20, Length > 50:False\nFunction Name:doc_nodoc , docstring length:0, Length > 50:False\nFunction Name:doc_string , docstring length:73, Length > 50:True\nNext Fibonnacci Number:34\nNext Fibonnacci Number:2\n\n----------------------------------------------------------------------\nRan 12 tests in 0.014s\n\nOK\n",
     "output_type": "stream"
    },
    {
     "output_type": "execute_result",
     "execution_count": 14,
     "data": {
      "text/plain": "<unittest.main.TestProgram at 0x7ff3b3168310>"
     },
     "metadata": {}
    }
   ],
   "execution_count": 14
  },
  {
   "cell_type": "markdown",
   "source": "# Modify above such that now we can pass in different dictionary variables to update different dictionaries&nbsp;",
   "metadata": {
    "tags": [],
    "cell_id": "00019-3fb5fcbc-b059-45c9-b377-cac51f864d95",
    "deepnote_cell_type": "text-cell-h1"
   }
  },
  {
   "cell_type": "code",
   "source": "my_add_count_dict = dict({\"add\":0}) ## this is a global variable\nmy_mul_count_dict = dict({\"mul\":0}) ## this is a global variable\nmy_div_count_dict = dict({\"div\":0}) ## this is a global variable\n\ndef counterx():\n    '''Find out how many times the add, div and mul has been called'''\n    add =0\n    div = 0\n    mul = 0\n    global my_count_dict\n\n    def add_incrementx(fn,my_add_count_dict):\n        nonlocal add\n        if fn.__name__ == \"add\":\n            add = my_add_count_dict.get('add')\n            add +=1\n            my_add_count_dict[\"add\"] = add\n            print(f\"{fn.__name__} count Value:{my_count_dict.get('add')}\")\n            return my_add_count_dict.get('add')\n        else:\n            return my_add_count_dict.get('add')\n    \n    def div_incrementx(fn,my_div_count_dict):\n        nonlocal div\n        if fn.__name__ == \"div\":\n            add = my_div_count_dict.get('div')\n            div +=1\n            my_div_count_dict[\"div\"] = div\n            print(f\"{fn.__name__} count Value:{my_count_dict.get('div')}\")\n            return my_div_count_dict.get('div')\n        else:\n            return my_div_count_dict.get('div')\n\n\n    def mul_incrementx(fn,my_mul_count_dict):\n        nonlocal mul\n        if fn.__name__ == \"mul\":\n            add = my_mul_count_dict.get('mul')\n            mul +=1\n            my_mul_count_dict[\"mul\"] = mul\n            print(f\"{fn.__name__} count Value:{my_count_dict.get('mul')}\")\n            return my_mul_count_dict.get('mul')\n        else:\n            return my_mul_count_dict.get('mul')\n    \n    return add_incrementx, div_incrementx, mul_incrementx",
   "metadata": {
    "tags": [],
    "cell_id": "00020-ad0e1b66-4f59-473a-ac77-ba240a9f797c",
    "deepnote_to_be_reexecuted": false,
    "source_hash": "6b098644",
    "execution_start": 1624362691615,
    "execution_millis": 23437,
    "deepnote_cell_type": "code"
   },
   "outputs": [],
   "execution_count": 15
  },
  {
   "cell_type": "code",
   "source": "addxx, divxx, mulxx = counterx()",
   "metadata": {
    "tags": [],
    "cell_id": "00021-b021f7de-7fd4-4c01-9c13-5bd639e27ada",
    "deepnote_to_be_reexecuted": false,
    "source_hash": "aeec1c74",
    "execution_start": 1624362691616,
    "execution_millis": 22018,
    "deepnote_cell_type": "code"
   },
   "outputs": [],
   "execution_count": 16
  },
  {
   "cell_type": "code",
   "source": "import unittest\nclass TestCounter(unittest.TestCase):\n    def test_add(self):\n        self.assertEqual(addxx(add,my_add_count_dict),1)\n    \n    def test_add2(self):\n        self.assertEqual(addxx(add,my_add_count_dict),2)\n\n    def test_div(self):\n        self.assertEqual(divxx(div,my_div_count_dict),1)\n    \n    def test_div2(self):\n        self.assertEqual(divxx(div,my_div_count_dict),2)\n    \n    def test_mul(self):\n        self.assertEqual(mulxx(mul,my_mul_count_dict),1)\n    \n    def test_mul2(self):\n        self.assertEqual(mulxx(mul,my_mul_count_dict),2)\n\nunittest.main(argv=['first-arg-is-ignored'], exit=False)",
   "metadata": {
    "tags": [],
    "cell_id": "00023-0a8051ce-4490-4428-b37c-b45b22c4c33e",
    "deepnote_to_be_reexecuted": false,
    "source_hash": "3ae94da",
    "execution_start": 1624362691619,
    "execution_millis": 15887,
    "deepnote_cell_type": "code"
   },
   "outputs": [
    {
     "name": "stdout",
     "text": "add count Value:2............\nadd count Value:2\ndiv count Value:2\ndiv count Value:2\nmul count Value:2\nmul count Value:2\nFunction Name:doc_50 , docstring length:50, Length > 50:False\nFunction Name:doc_lower , docstring length:20, Length > 50:False\nFunction Name:doc_nodoc , docstring length:0, Length > 50:False\nFunction Name:doc_string , docstring length:73, Length > 50:True\nNext Fibonnacci Number:34\nNext Fibonnacci Number:2\n\n----------------------------------------------------------------------\nRan 12 tests in 0.013s\n\nOK\n",
     "output_type": "stream"
    },
    {
     "output_type": "execute_result",
     "execution_count": 17,
     "data": {
      "text/plain": "<unittest.main.TestProgram at 0x7ff3b317d5d0>"
     },
     "metadata": {}
    }
   ],
   "execution_count": 17
  },
  {
   "cell_type": "code",
   "source": "",
   "metadata": {
    "tags": [],
    "cell_id": "00024-1e5a9e91-a32f-4b43-928e-6c588797e2c6",
    "deepnote_to_be_reexecuted": false,
    "source_hash": "b623e53d",
    "execution_start": 1624362691710,
    "deepnote_cell_type": "code"
   },
   "outputs": [],
   "execution_count": 17
  },
  {
   "cell_type": "markdown",
   "source": "<a style='text-decoration:none;line-height:16px;display:flex;color:#5B5B62;padding:10px;justify-content:end;' href='https://deepnote.com?utm_source=created-in-deepnote-cell&projectId=fde29534-4515-49a5-8366-95f213eb0b08' target=\"_blank\">\n<img alt='Created in deepnote.com' style='display:inline;max-height:16px;margin:0px;margin-right:7.5px;' src='data:image/svg+xml;base64,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' > </img>\nCreated in <span style='font-weight:600;margin-left:4px;'>Deepnote</span></a>",
   "metadata": {
    "tags": [],
    "created_in_deepnote_cell": true,
    "deepnote_cell_type": "markdown"
   }
  }
 ],
 "nbformat": 4,
 "nbformat_minor": 2,
 "metadata": {
  "orig_nbformat": 2,
  "deepnote": {
   "is_reactive": false
  },
  "deepnote_notebook_id": "65234c4c-c817-46b7-be4e-ea18a9a5ffb9",
  "deepnote_execution_queue": []
 }
}